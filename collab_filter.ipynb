{
 "cells": [
  {
   "cell_type": "markdown",
   "metadata": {
    "deletable": false,
    "editable": false,
    "nbgrader": {
     "checksum": "7185f00c8423e9422d973234baf9cfd8",
     "grade": false,
     "grade_id": "cell-ff028c1d39ffdaf6",
     "locked": true,
     "schema_version": 1,
     "solution": false
    }
   },
   "source": [
    "##### The Jester Dataset\n",
    "###### Jester is a dataset developed by Ken Goldberg and his group at UC Berkeley. The dataset contains jokes rated by users on a scale of -10 to 10.\n",
    "\n",
    "##### Getting the Data\n",
    "###### The version of Jester dataset is provided for this assignment: jester-data-3.csv. It contains 1048575 entries, columns; user_id, joke_id, rating\n",
    "\n",
    "##### Custom Code\n",
    "###### The custom packages; soft_impute and functionsCF will need to be installed"
   ]
  },
  {
   "cell_type": "code",
   "execution_count": 2,
   "metadata": {
    "deletable": false,
    "editable": false,
    "nbgrader": {
     "checksum": "e9b47e1ab09822e39c9b3fa98b806199",
     "grade": false,
     "grade_id": "cell-08c1501d535ebe89",
     "locked": true,
     "schema_version": 1,
     "solution": false
    }
   },
   "outputs": [],
   "source": [
    "import numpy as np\n",
    "import pandas as pd\n",
    "from fancyimpute import BiScaler\n",
    "from soft_impute import SoftImpute\n",
    "from functionsCF import GenerateTrainingSet"
   ]
  },
  {
   "cell_type": "markdown",
   "metadata": {
    "deletable": false,
    "editable": false,
    "nbgrader": {
     "checksum": "63425138e94bb7eb4cd8666360cc27f6",
     "grade": false,
     "grade_id": "cell-65bbfa419154edae",
     "locked": true,
     "schema_version": 1,
     "solution": false
    }
   },
   "source": [
    "##### Create the incomplete matrices for training and testing"
   ]
  },
  {
   "cell_type": "code",
   "execution_count": 3,
   "metadata": {
    "deletable": false,
    "nbgrader": {
     "checksum": "519dd4fec8a03582e0776aa535d034c4",
     "grade": false,
     "grade_id": "cell-1f2625567e443f91",
     "locked": false,
     "schema_version": 1,
     "solution": true
    }
   },
   "outputs": [],
   "source": [
    "# Read jester data from files- point to where data is stored, small set of jester-data-3.csv dataset\n",
    "# 100836 (rows), userId\tjokeId\trating\ttimestamp (columns)\n",
    "# read in values only\n",
    "# name the variable \"rating\"\n",
    "# YOUR CODE HERE\n",
    "rating = pd.read_csv('jester-data-3.csv', sep=',').values\n",
    "#raise NotImplementedError()"
   ]
  },
  {
   "cell_type": "code",
   "execution_count": null,
   "metadata": {
    "deletable": false,
    "editable": false,
    "nbgrader": {
     "checksum": "9af1135858239f2151d962657fec9e46",
     "grade": true,
     "grade_id": "cell-56fee16594d1bf20",
     "locked": true,
     "points": 2,
     "schema_version": 1,
     "solution": false
    }
   },
   "outputs": [],
   "source": []
  },
  {
   "cell_type": "code",
   "execution_count": 4,
   "metadata": {
    "deletable": false,
    "editable": false,
    "nbgrader": {
     "checksum": "e31d7f3e138b96ab3c97ca20c6732fe2",
     "grade": false,
     "grade_id": "cell-38f0f4c53b80e22a",
     "locked": true,
     "schema_version": 1,
     "solution": false
    }
   },
   "outputs": [
    {
     "name": "stdout",
     "output_type": "stream",
     "text": [
      "[[ 1.    1.   -7.82]\n",
      " [ 1.    2.    8.79]\n",
      " [ 1.    3.   -9.66]\n",
      " [ 1.    4.   -8.16]\n",
      " [ 1.    5.   -7.52]]\n"
     ]
    }
   ],
   "source": [
    "# Show the top 5 rows\n",
    "print(rating[:5, :])"
   ]
  },
  {
   "cell_type": "markdown",
   "metadata": {
    "deletable": false,
    "editable": false,
    "nbgrader": {
     "checksum": "a128c77f7c7f3bf8368dccb32dbf7256",
     "grade": false,
     "grade_id": "cell-0a172e5e71aa8b3c",
     "locked": true,
     "schema_version": 1,
     "solution": false
    }
   },
   "source": [
    "######  Use all known information to create the incomplete matrix"
   ]
  },
  {
   "cell_type": "code",
   "execution_count": 6,
   "metadata": {
    "deletable": false,
    "nbgrader": {
     "checksum": "ed8e9aaf0bc83ce788b793967961fca6",
     "grade": false,
     "grade_id": "cell-5b292ff2b090816e",
     "locked": false,
     "schema_version": 1,
     "solution": true
    }
   },
   "outputs": [],
   "source": [
    "# First, create an empty matrix call it \"matrix_incomplete\"\n",
    "# YOUR CODE HERE\n",
    "matrix_incomplete = np.zeros((len(np.unique(rating[:,0])), len(np.unique(rating[:,1]))))\n",
    "\n",
    "#raise NotImplementedError()"
   ]
  },
  {
   "cell_type": "code",
   "execution_count": null,
   "metadata": {
    "deletable": false,
    "editable": false,
    "nbgrader": {
     "checksum": "9bf5eab10fac1b3c0143a8fd614fe6bd",
     "grade": true,
     "grade_id": "cell-dcf6b4aef273c2cb",
     "locked": true,
     "points": 2,
     "schema_version": 1,
     "solution": false
    }
   },
   "outputs": [],
   "source": []
  },
  {
   "cell_type": "code",
   "execution_count": null,
   "metadata": {
    "deletable": false,
    "nbgrader": {
     "checksum": "1ee0debd9aa372f0e6f59675083e26e3",
     "grade": false,
     "grade_id": "cell-a5f2de4b18563881",
     "locked": false,
     "schema_version": 1,
     "solution": true
    }
   },
   "outputs": [],
   "source": [
    "# Second, Since some jokes may not have any ratings, we only use the jokes that have ratings. \n",
    "# Here we correspondingly change the joke IDs to make each column have ratings.\n",
    "# create an array of all joke IDs call it \"usedID\"\n",
    "# YOUR CODE HERE\n",
    "#raise NotImplementedError()\n",
    "usedID = np.unique(rating[:, 1])\n",
    "\n",
    "# replace the joke IDs by their positions in the array we just created\n",
    "# YOUR CODE HERE\n",
    "#raise NotImplementedError()\n",
    "for i in range(len(rating[:,1])):\n",
    "    rating[:,1][i] = np.where(usedID==rating[:,1][i])[0][0] + 1\n"
   ]
  },
  {
   "cell_type": "code",
   "execution_count": null,
   "metadata": {
    "deletable": false,
    "editable": false,
    "nbgrader": {
     "checksum": "fefa1a613e7bd72d2eab86c569cb1eda",
     "grade": true,
     "grade_id": "cell-12d89f3cae3c4506",
     "locked": true,
     "points": 2,
     "schema_version": 1,
     "solution": false
    }
   },
   "outputs": [],
   "source": []
  },
  {
   "cell_type": "code",
   "execution_count": 8,
   "metadata": {
    "deletable": false,
    "nbgrader": {
     "checksum": "e8f8e2ea6c39d1bf8c56439bf370656e",
     "grade": false,
     "grade_id": "cell-ce213a44ca45cec6",
     "locked": false,
     "schema_version": 1,
     "solution": true
    }
   },
   "outputs": [],
   "source": [
    "# Finally, we construct the incomplete matrix, on which the incomplete components are nan by \n",
    "# default. \n",
    "# Make all components of matrix_incomplete nan by default\n",
    "# YOUR CODE HERE\n",
    "#raise NotImplementedError()\n",
    "matrix_incomplete[:] = np.nan\n",
    "\n",
    "\n",
    "# create the index pair of the components with ratings. Call it \"indices\"\n",
    "# YOUR CODE HERE\n",
    "#raise NotImplementedError()\n",
    "indices = np.array(rating[:,0] - 1).astype(int), np.array(rating[:,1] - 1).astype(int)\n",
    "\n",
    "\n",
    "# change the values in the corresponding positions to the known rating information\n",
    "# YOUR CODE HERE\n",
    "#raise NotImplementedError()\n",
    "matrix_incomplete[indices] = rating[:,2]\n"
   ]
  },
  {
   "cell_type": "code",
   "execution_count": null,
   "metadata": {
    "deletable": false,
    "editable": false,
    "nbgrader": {
     "checksum": "cd47fc17fb34c10e5a2e343af5d88ad2",
     "grade": true,
     "grade_id": "cell-edd4525ed1057bfb",
     "locked": true,
     "points": 2,
     "schema_version": 1,
     "solution": false
    }
   },
   "outputs": [],
   "source": []
  },
  {
   "cell_type": "code",
   "execution_count": 9,
   "metadata": {
    "deletable": false,
    "nbgrader": {
     "checksum": "4a8c93e35d90c7485cf27c979cc7e349",
     "grade": false,
     "grade_id": "cell-c1452a076629bdb8",
     "locked": false,
     "schema_version": 1,
     "solution": true
    }
   },
   "outputs": [],
   "source": [
    "# Obtain the index pairs of the training set and the validation set, with ratio 80%\n",
    "# Use GenerateTrainingSet() function and name the outputs train_indices and validation_indices\n",
    "# YOUR CODE HERE\n",
    "#raise NotImplementedError()\n",
    "train_indices, validation_indices = GenerateTrainingSet(rating[:,0], rating[:,1], 0.80)\n",
    "\n",
    "\n",
    "# Now use the index pairs to create the incomplete training test called \"matrix_train\"\n",
    "# YOUR CODE HERE\n",
    "#raise NotImplementedError()\n",
    "matrix_train = matrix_incomplete.copy()\n",
    "matrix_train[:] = np.nan\n",
    "matrix_train[train_indices] = matrix_incomplete[train_indices]\n"
   ]
  },
  {
   "cell_type": "code",
   "execution_count": null,
   "metadata": {
    "deletable": false,
    "editable": false,
    "nbgrader": {
     "checksum": "7256534d5f675862eabbc77139130397",
     "grade": true,
     "grade_id": "cell-6c293cffb3a9a630",
     "locked": true,
     "points": 2,
     "schema_version": 1,
     "solution": false
    }
   },
   "outputs": [],
   "source": []
  },
  {
   "cell_type": "markdown",
   "metadata": {
    "deletable": false,
    "editable": false,
    "nbgrader": {
     "checksum": "16732f500033c7f5212b8e495ee3c191",
     "grade": false,
     "grade_id": "cell-70b9e4a9caa7502a",
     "locked": true,
     "schema_version": 1,
     "solution": false
    }
   },
   "source": [
    "##### Run the softImpute model for collaborative filtering"
   ]
  },
  {
   "cell_type": "code",
   "execution_count": 10,
   "metadata": {
    "deletable": false,
    "nbgrader": {
     "checksum": "72e00f3a7d17a339195b80a92031d043",
     "grade": false,
     "grade_id": "cell-b556a00d24046c99",
     "locked": false,
     "schema_version": 1,
     "solution": true
    }
   },
   "outputs": [],
   "source": [
    "# Create the BiScaler model call it \"biscaler\"\n",
    "# YOUR CODE HERE\n",
    "#raise NotImplementedError()\n",
    "biscaler = BiScaler(scale_rows=False, scale_columns=False, max_iters=50, verbose=False)\n",
    "\n",
    "\n",
    "# Rescale both rows and columns to have zero mean\n",
    "# Call it matrix_train_normalized\n",
    "# YOUR CODE HERE\n",
    "#raise NotImplementedError()\n",
    "matrix_train_normalized = biscaler.fit_transform(matrix_train)\n"
   ]
  },
  {
   "cell_type": "code",
   "execution_count": null,
   "metadata": {
    "deletable": false,
    "editable": false,
    "nbgrader": {
     "checksum": "f04bff4c4023525c3f972195b9483a6c",
     "grade": true,
     "grade_id": "cell-65f9958770a14de7",
     "locked": true,
     "points": 2,
     "schema_version": 1,
     "solution": false
    }
   },
   "outputs": [],
   "source": []
  },
  {
   "cell_type": "code",
   "execution_count": 11,
   "metadata": {
    "deletable": false,
    "editable": false,
    "nbgrader": {
     "checksum": "e1e57cb785b4e6bcdeadbfd9f7f8a08b",
     "grade": false,
     "grade_id": "cell-9df267dd72ff6739",
     "locked": true,
     "schema_version": 1,
     "solution": false
    }
   },
   "outputs": [],
   "source": [
    "# Use softImpute to complete the matrix. J means the number of archetypes and rand_seed means the \n",
    "# seed for the inner random number generator, verbose control whether outputting algorithm logs.\n",
    "\n",
    "softImpute = SoftImpute(J = 9, maxit = 200, random_seed = 2022, verbose = False)\n"
   ]
  },
  {
   "cell_type": "code",
   "execution_count": 12,
   "metadata": {
    "deletable": false,
    "nbgrader": {
     "checksum": "8d604141ac047dfeb3376e61673bf67e",
     "grade": false,
     "grade_id": "cell-02c6b6cd1636983b",
     "locked": false,
     "schema_version": 1,
     "solution": true
    }
   },
   "outputs": [],
   "source": [
    "# Run the softImpute model on the normalized training set\n",
    "# Call the output matrix_train_softImpute\n",
    "# YOUR CODE HERE\n",
    "#raise NotImplementedError()\n",
    "matrix_train_softImpute = softImpute.fit(matrix_train_normalized)\n",
    "\n",
    "\n",
    "# Use the softImpute model to create the predicted matrix. If we set copyto as True, then it \n",
    "# directly change the value of matrix_train_normalized\n",
    "# Call the output matrix_train_filled_normalized\n",
    "# YOUR CODE HERE\n",
    "#raise NotImplementedError()\n",
    "matrix_train_filled_normalized = matrix_train_softImpute.predict(matrix_train_normalized, copyto = False)\n",
    "\n",
    "\n",
    "# Inverse transformation to undo the scaling\n",
    "# Call the output matrix_train_filled\n",
    "# YOUR CODE HERE\n",
    "#raise NotImplementedError()\n",
    "matrix_train_filled = biscaler.inverse_transform(matrix_train_filled_normalized)\n"
   ]
  },
  {
   "cell_type": "code",
   "execution_count": null,
   "metadata": {
    "deletable": false,
    "editable": false,
    "nbgrader": {
     "checksum": "947d81205c51b2915125c07f770f9831",
     "grade": true,
     "grade_id": "cell-6a19cb0d53fef0bd",
     "locked": true,
     "points": 2,
     "schema_version": 1,
     "solution": false
    }
   },
   "outputs": [],
   "source": []
  },
  {
   "cell_type": "markdown",
   "metadata": {
    "deletable": false,
    "editable": false,
    "nbgrader": {
     "checksum": "75559fd6eb8762f06aca9798798bb587",
     "grade": false,
     "grade_id": "cell-4367bd2005234227",
     "locked": true,
     "schema_version": 1,
     "solution": false
    }
   },
   "source": [
    "##### Analysis of the predicted ratings"
   ]
  },
  {
   "cell_type": "markdown",
   "metadata": {
    "deletable": false,
    "editable": false,
    "nbgrader": {
     "checksum": "99f1b1303aa005348a9b077af99d0f22",
     "grade": false,
     "grade_id": "cell-b2f39addca50874c",
     "locked": true,
     "schema_version": 1,
     "solution": false
    }
   },
   "source": [
    "###### Out-of-sample R^2"
   ]
  },
  {
   "cell_type": "code",
   "execution_count": 13,
   "metadata": {
    "deletable": false,
    "nbgrader": {
     "checksum": "b3cff2325162a094ca24c674dac762ef",
     "grade": false,
     "grade_id": "cell-fd150af203594599",
     "locked": false,
     "schema_version": 1,
     "solution": true
    }
   },
   "outputs": [],
   "source": [
    "# Create the baseline method of the training set using np.average()\n",
    "# Name the output train_average\n",
    "# YOUR CODE HERE\n",
    "#raise NotImplementedError()\n",
    "train_average = np.average(matrix_train[train_indices])\n"
   ]
  },
  {
   "cell_type": "code",
   "execution_count": null,
   "metadata": {
    "deletable": false,
    "editable": false,
    "nbgrader": {
     "checksum": "e64dd2e5df973347456e9a7673803e78",
     "grade": true,
     "grade_id": "cell-9c31ef501bfd2a35",
     "locked": true,
     "points": 2,
     "schema_version": 1,
     "solution": false
    }
   },
   "outputs": [],
   "source": []
  },
  {
   "cell_type": "code",
   "execution_count": null,
   "metadata": {
    "deletable": false,
    "nbgrader": {
     "checksum": "200aab5d8ee74b25af398f8f778c6e77",
     "grade": false,
     "grade_id": "cell-dddfc87b249baf5e",
     "locked": false,
     "schema_version": 1,
     "solution": true
    }
   },
   "outputs": [],
   "source": [
    "# Calculate out-of-sample R2 and in-sample R2\n",
    "# Your results may vary from the lesson due to datasize and training test split.\n",
    "# Generate validation_mse, training_mse, validation_mse_baseline, and training_mse_baseline\n",
    "# YOUR CODE HERE\n",
    "#raise NotImplementedError()\n",
    "validation_mse = ((matrix_train_filled[validation_indices] - matrix_incomplete[validation_indices]) ** 2).mean()\n",
    "training_mse = ((matrix_train_filled[train_indices] - matrix_incomplete[train_indices]) ** 2).mean()\n",
    "validation_mse_baseline = ((train_average - matrix_incomplete[validation_indices]) ** 2).mean()\n",
    "training_mse_baseline = ((train_average - matrix_incomplete[train_indices]) ** 2).mean()\n",
    "\n",
    "print(\"out-of-sample R2: %.4f, in-sample R2: %.4f.\" % (1 - validation_mse / validation_mse_baseline, 1 - training_mse / training_mse_baseline))"
   ]
  },
  {
   "cell_type": "code",
   "execution_count": null,
   "metadata": {
    "deletable": false,
    "editable": false,
    "nbgrader": {
     "checksum": "2b7517c7d98edf3af293e1c4962fdd40",
     "grade": true,
     "grade_id": "cell-fd602424574f91b2",
     "locked": true,
     "points": 2,
     "schema_version": 1,
     "solution": false
    }
   },
   "outputs": [],
   "source": []
  },
  {
   "cell_type": "code",
   "execution_count": null,
   "metadata": {
    "deletable": false,
    "editable": false,
    "nbgrader": {
     "checksum": "904fed4b4e880002914b49d5fe710790",
     "grade": false,
     "grade_id": "cell-56152a75e30d282d",
     "locked": true,
     "schema_version": 1,
     "solution": false
    }
   },
   "outputs": [],
   "source": [
    "# Observe your prediction:\n",
    "# After matrix completion\n",
    "print(\"After matrix completion =\", matrix_train_filled[10882,64])"
   ]
  }
 ],
 "metadata": {
  "kernelspec": {
   "display_name": "Python 3",
   "language": "python",
   "name": "python3"
  },
  "language_info": {
   "codemirror_mode": {
    "name": "ipython",
    "version": 3
   },
   "file_extension": ".py",
   "mimetype": "text/x-python",
   "name": "python",
   "nbconvert_exporter": "python",
   "pygments_lexer": "ipython3",
   "version": "3.6.9"
  }
 },
 "nbformat": 4,
 "nbformat_minor": 2
}
