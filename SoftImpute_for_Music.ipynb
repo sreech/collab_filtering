{
 "cells": [
  {
   "cell_type": "code",
   "execution_count": 1,
   "metadata": {
    "deletable": false,
    "editable": false,
    "nbgrader": {
     "checksum": "70528c0f75f8affef5b02ff7ac64b152",
     "grade": false,
     "grade_id": "cell-c4cf5730d5de75c0",
     "locked": true,
     "schema_version": 1,
     "solution": false
    }
   },
   "outputs": [],
   "source": [
    "# Impute necessary packages\n",
    "import numpy as np\n",
    "import pandas as pd\n",
    "from fancyimpute import BiScaler\n",
    "from soft_impute import SoftImpute\n",
    "from functionsCF import GenerateTrainingSet"
   ]
  },
  {
   "cell_type": "markdown",
   "metadata": {
    "deletable": false,
    "editable": false,
    "nbgrader": {
     "checksum": "78ba9379db9001159b36a10bc25aea06",
     "grade": false,
     "grade_id": "cell-bf903247ced46136",
     "locked": true,
     "schema_version": 1,
     "solution": false
    }
   },
   "source": [
    "#### Create the incomplete matrices for training and testing"
   ]
  },
  {
   "cell_type": "code",
   "execution_count": 9,
   "metadata": {
    "deletable": false,
    "nbgrader": {
     "checksum": "044257c5974befda9ac0a680ae84d9b7",
     "grade": false,
     "grade_id": "cell-165874c11501c1cf",
     "locked": false,
     "schema_version": 1,
     "solution": true
    }
   },
   "outputs": [
    {
     "name": "stdout",
     "output_type": "stream",
     "text": [
      "289409\n"
     ]
    }
   ],
   "source": [
    "# Read jester data from files- point to where data is stored, small set of jester dataset\n",
    "# 100836 (rows), userId\tjokeId\trating\ttimestamp (columns)\n",
    "# read in values only\n",
    "# name the variable \"rating\"\n",
    "# YOUR CODE HERE\n",
    "#raise NotImplementedError()\n",
    "rating = pd.read_csv('MusicRatings.csv', sep=',').values\n",
    "print(len(rating))"
   ]
  },
  {
   "cell_type": "code",
   "execution_count": null,
   "metadata": {
    "deletable": false,
    "editable": false,
    "nbgrader": {
     "checksum": "c4c115323eac8b53d9faf5b5ff2e4979",
     "grade": true,
     "grade_id": "cell-fa7c3f7327c65129",
     "locked": true,
     "points": 1,
     "schema_version": 1,
     "solution": false
    }
   },
   "outputs": [],
   "source": []
  },
  {
   "cell_type": "code",
   "execution_count": 10,
   "metadata": {
    "deletable": false,
    "editable": false,
    "nbgrader": {
     "checksum": "4fcdc2799b90043178c492db29037ccc",
     "grade": false,
     "grade_id": "cell-e860db0bbbb33a79",
     "locked": true,
     "schema_version": 1,
     "solution": false
    }
   },
   "outputs": [
    {
     "name": "stdout",
     "output_type": "stream",
     "text": [
      "[[5.26000000e+02 8.00000000e+01 1.47712125e+00]\n",
      " [1.40300000e+03 5.40000000e+01 2.20411998e+00]\n",
      " [5.56000000e+02 8.00000000e+01 1.30103000e+00]\n",
      " [1.03600000e+03 5.40000000e+01 1.47712125e+00]\n",
      " [2.35200000e+03 8.00000000e+01 1.30103000e+00]]\n"
     ]
    }
   ],
   "source": [
    "# Show the top 5 rows\n",
    "print(rating[:5, :])"
   ]
  },
  {
   "cell_type": "code",
   "execution_count": 11,
   "metadata": {
    "deletable": false,
    "nbgrader": {
     "checksum": "1466c4e3557411df19dc05aba0813440",
     "grade": false,
     "grade_id": "cell-a8f3a8713e413de6",
     "locked": false,
     "schema_version": 1,
     "solution": true
    }
   },
   "outputs": [
    {
     "name": "stdout",
     "output_type": "stream",
     "text": [
      "(2421, 807)\n"
     ]
    }
   ],
   "source": [
    "# First, create an empty matrix call it \"matrix_incomplete\"\n",
    "# YOUR CODE HERE\n",
    "#raise NotImplementedError()\n",
    "matrix_incomplete = np.zeros((len(np.unique(rating[:,0])), len(np.unique(rating[:,1]))))\n",
    "print(matrix_incomplete.shape)"
   ]
  },
  {
   "cell_type": "code",
   "execution_count": null,
   "metadata": {
    "deletable": false,
    "editable": false,
    "nbgrader": {
     "checksum": "59bbd251e116892015171296b9fcf6e4",
     "grade": true,
     "grade_id": "cell-71f27db9e7e95d04",
     "locked": true,
     "points": 1,
     "schema_version": 1,
     "solution": false
    }
   },
   "outputs": [],
   "source": []
  },
  {
   "cell_type": "code",
   "execution_count": 13,
   "metadata": {
    "deletable": false,
    "nbgrader": {
     "checksum": "5f48b58c6064a2f2ce453448bfcd8726",
     "grade": false,
     "grade_id": "cell-583c203ae6eb1c63",
     "locked": false,
     "schema_version": 1,
     "solution": true
    }
   },
   "outputs": [
    {
     "name": "stdout",
     "output_type": "stream",
     "text": [
      "289409\n",
      "803.0\n"
     ]
    }
   ],
   "source": [
    "# Second, Since some music may not have any ratings, we only use the music that have ratings. \n",
    "# Here we correspondingly change the music IDs to make each column have ratings.\n",
    "# create an array of all music IDs call it \"usedID\"\n",
    "# YOUR CODE HERE\n",
    "#raise NotImplementedError()\n",
    "usedID = np.unique(rating[:, 1])\n",
    "#print(usedID)\n",
    "\n",
    "# replace the music IDs by their positions in the array we just created\n",
    "# YOUR CODE HERE\n",
    "#raise NotImplementedError()\n",
    "for i in range(len(rating[:,1])):\n",
    "    rating[:,1][i] = np.where(usedID==rating[:,1][i])[0][0] + 1\n",
    "print(rating[:,1].size)\n",
    "print(rating[:,1][289000])"
   ]
  },
  {
   "cell_type": "code",
   "execution_count": null,
   "metadata": {
    "deletable": false,
    "editable": false,
    "nbgrader": {
     "checksum": "82c7101b85bb5cfc79cfca490168cecc",
     "grade": true,
     "grade_id": "cell-2662f82f4e97813b",
     "locked": true,
     "points": 1,
     "schema_version": 1,
     "solution": false
    }
   },
   "outputs": [],
   "source": []
  },
  {
   "cell_type": "code",
   "execution_count": 28,
   "metadata": {
    "deletable": false,
    "nbgrader": {
     "checksum": "89580cdf488a8f2769ad6a3da3d97002",
     "grade": false,
     "grade_id": "cell-4b853ee675219a1d",
     "locked": false,
     "schema_version": 1,
     "solution": true
    }
   },
   "outputs": [
    {
     "name": "stdout",
     "output_type": "stream",
     "text": [
      "(array([ 525, 1402,  555, ...,  383,  229, 1384]), array([ 79,  53,  79, ..., 656, 656, 614]))\n",
      "nan\n",
      "1.0\n"
     ]
    }
   ],
   "source": [
    "# Finally, we construct the incomplete matrix, on which the incomplete components are nan by \n",
    "# default. \n",
    "# Make all components of matrix_incomplete nan by default\n",
    "# YOUR CODE HERE\n",
    "#raise NotImplementedError()\n",
    "matrix_incomplete[:] = np.nan\n",
    "\n",
    "# create the index pair of the components with ratings. Call it \"indices\"\n",
    "# YOUR CODE HERE\n",
    "#raise NotImplementedError()\n",
    "indices = np.array(rating[:,0] - 1).astype(int), np.array(rating[:,1] - 1).astype(int)\n",
    "print(indices)\n",
    "\n",
    "# change the values in the corresponding positions to the known rating information\n",
    "# YOUR CODE HERE\n",
    "#raise NotImplementedError()\n",
    "matrix_incomplete[indices] = rating[:,2]\n",
    "print(matrix_incomplete[2420,806])\n",
    "print(matrix_incomplete[13,1])\n",
    "\n"
   ]
  },
  {
   "cell_type": "code",
   "execution_count": null,
   "metadata": {
    "deletable": false,
    "editable": false,
    "nbgrader": {
     "checksum": "46270eafdc1751d2f28a6ffa8503cccd",
     "grade": true,
     "grade_id": "cell-3e7a0cb8674e7bbc",
     "locked": true,
     "points": 1,
     "schema_version": 1,
     "solution": false
    }
   },
   "outputs": [],
   "source": []
  },
  {
   "cell_type": "code",
   "execution_count": 29,
   "metadata": {
    "deletable": false,
    "nbgrader": {
     "checksum": "aea875a1381a3910c75b36fd4af2fb51",
     "grade": false,
     "grade_id": "cell-e9e7b9d92f616453",
     "locked": false,
     "schema_version": 1,
     "solution": true
    }
   },
   "outputs": [],
   "source": [
    "# Obtain the index pairs of the training set and the validation set, with ratio 70%\n",
    "# Use GenerateTrainingSet() function and name the outputs train_indices and validation_indices\n",
    "# YOUR CODE HERE\n",
    "#raise NotImplementedError()\n",
    "train_indices, validation_indices = GenerateTrainingSet(rating[:,0], rating[:,1], 0.70)\n",
    "\n",
    "\n",
    "# Now use the index pairs to create the incomplete training test called \"matrix_train\"\n",
    "# YOUR CODE HERE\n",
    "#raise NotImplementedError()\n",
    "matrix_train = matrix_incomplete.copy()\n",
    "matrix_train[:] = np.nan\n",
    "matrix_train[train_indices] = matrix_incomplete[train_indices]"
   ]
  },
  {
   "cell_type": "code",
   "execution_count": null,
   "metadata": {
    "deletable": false,
    "editable": false,
    "nbgrader": {
     "checksum": "35581178bac97d728067dbec1ed80667",
     "grade": true,
     "grade_id": "cell-ce69b29eaf549708",
     "locked": true,
     "points": 1,
     "schema_version": 1,
     "solution": false
    }
   },
   "outputs": [],
   "source": []
  },
  {
   "cell_type": "markdown",
   "metadata": {
    "deletable": false,
    "editable": false,
    "nbgrader": {
     "checksum": "3aecb3488226c183d9255b10ea4f7c8f",
     "grade": false,
     "grade_id": "cell-a3a4a108717eed10",
     "locked": true,
     "schema_version": 1,
     "solution": false
    }
   },
   "source": [
    "#### Run the softImpute model for collaborative filtering"
   ]
  },
  {
   "cell_type": "code",
   "execution_count": 30,
   "metadata": {
    "deletable": false,
    "nbgrader": {
     "checksum": "2385d32d8dfae724437e0099fbf5cecb",
     "grade": false,
     "grade_id": "cell-fa0c738441e81e74",
     "locked": false,
     "schema_version": 1,
     "solution": true
    }
   },
   "outputs": [],
   "source": [
    "# Create the BiScaler model call it \"biscaler\"\n",
    "# YOUR CODE HERE\n",
    "#raise NotImplementedError()\n",
    "biscaler = BiScaler(scale_rows=False, scale_columns=False, max_iters=50, verbose=False)\n",
    "\n",
    "\n",
    "# Rescale both rows and columns to have zero mean\n",
    "# Call it matrix_train_normalized\n",
    "# YOUR CODE HERE\n",
    "#raise NotImplementedError()\n",
    "matrix_train_normalized = biscaler.fit_transform(matrix_train)\n"
   ]
  },
  {
   "cell_type": "code",
   "execution_count": null,
   "metadata": {
    "deletable": false,
    "editable": false,
    "nbgrader": {
     "checksum": "de93777eb32b26ede0dcf5aef5ee9ff5",
     "grade": true,
     "grade_id": "cell-f20279fded85a63d",
     "locked": true,
     "points": 1,
     "schema_version": 1,
     "solution": false
    }
   },
   "outputs": [],
   "source": []
  },
  {
   "cell_type": "code",
   "execution_count": 31,
   "metadata": {
    "deletable": false,
    "editable": false,
    "nbgrader": {
     "checksum": "c0c064fa6e0261c17ea1d0ccafe4a643",
     "grade": false,
     "grade_id": "cell-329176eca3b82d09",
     "locked": true,
     "schema_version": 1,
     "solution": false
    }
   },
   "outputs": [],
   "source": [
    "# Use softImpute to complete the matrix. J means the number of archetypes and rand_seed means the \n",
    "# seed for the inner random number generator, verbose control whether outputting algorithm logs.\n",
    "\n",
    "softImpute = SoftImpute(J = 6, maxit = 200, random_seed = 2033, verbose = False)\n"
   ]
  },
  {
   "cell_type": "code",
   "execution_count": 32,
   "metadata": {
    "deletable": false,
    "nbgrader": {
     "checksum": "63be70425ed72d8a07594a447bce5b6b",
     "grade": false,
     "grade_id": "cell-2420fae7190b6294",
     "locked": false,
     "schema_version": 1,
     "solution": true
    }
   },
   "outputs": [],
   "source": [
    "# Run the softImpute model on the normalized training set\n",
    "# Call the output matrix_train_softImpute\n",
    "# YOUR CODE HERE\n",
    "#raise NotImplementedError()\n",
    "matrix_train_softImpute = softImpute.fit(matrix_train_normalized)\n",
    "\n",
    "\n",
    "# Use the softImpute model to create the predicted matrix. If we set copyto as True, then it \n",
    "# directly change the value of matrix_train_normalized\n",
    "# Call the output matrix_train_filled_normalized\n",
    "# YOUR CODE HERE\n",
    "#raise NotImplementedError()\n",
    "matrix_train_filled_normalized = matrix_train_softImpute.predict(matrix_train_normalized, copyto = False)\n",
    "\n",
    "\n",
    "# Inverse transformation to undo the scaling\n",
    "# Call the output matrix_train_filled\n",
    "# YOUR CODE HERE\n",
    "#raise NotImplementedError()\n",
    "matrix_train_filled = biscaler.inverse_transform(matrix_train_filled_normalized)\n"
   ]
  },
  {
   "cell_type": "code",
   "execution_count": null,
   "metadata": {
    "deletable": false,
    "editable": false,
    "nbgrader": {
     "checksum": "81e768e553fb34091c0b3054d7ca8ccc",
     "grade": true,
     "grade_id": "cell-ac58386fe341f255",
     "locked": true,
     "points": 1,
     "schema_version": 1,
     "solution": false
    }
   },
   "outputs": [],
   "source": []
  },
  {
   "cell_type": "markdown",
   "metadata": {
    "deletable": false,
    "editable": false,
    "nbgrader": {
     "checksum": "77d393f3a9d360ad71fe8d10d63fbd7e",
     "grade": false,
     "grade_id": "cell-e0663d3f4604e529",
     "locked": true,
     "schema_version": 1,
     "solution": false
    }
   },
   "source": [
    "#### Analysis of the predicted ratings"
   ]
  },
  {
   "cell_type": "markdown",
   "metadata": {
    "deletable": false,
    "editable": false,
    "nbgrader": {
     "checksum": "6040230f81908452aa873cba785a8f4d",
     "grade": false,
     "grade_id": "cell-01805c56f40f3f4f",
     "locked": true,
     "schema_version": 1,
     "solution": false
    }
   },
   "source": [
    "##### Out-of-sample R^2"
   ]
  },
  {
   "cell_type": "code",
   "execution_count": 33,
   "metadata": {
    "deletable": false,
    "nbgrader": {
     "checksum": "18829a9e7b8fde72e8cdc26fbc47326e",
     "grade": false,
     "grade_id": "cell-7a7212d143011f92",
     "locked": false,
     "schema_version": 1,
     "solution": true
    }
   },
   "outputs": [],
   "source": [
    "# Create the baseline method of the training set using np.average()\n",
    "# Name the output train_average\n",
    "# YOUR CODE HERE\n",
    "#raise NotImplementedError()\n",
    "train_average = np.average(matrix_train[train_indices])\n"
   ]
  },
  {
   "cell_type": "code",
   "execution_count": null,
   "metadata": {
    "deletable": false,
    "editable": false,
    "nbgrader": {
     "checksum": "25254d451a119cec8ed270677c82d486",
     "grade": true,
     "grade_id": "cell-7287d93df26f5b01",
     "locked": true,
     "points": 1,
     "schema_version": 1,
     "solution": false
    }
   },
   "outputs": [],
   "source": []
  },
  {
   "cell_type": "code",
   "execution_count": 34,
   "metadata": {
    "deletable": false,
    "nbgrader": {
     "checksum": "4a0ae8e5b75e290e4a5a87bd779edcc6",
     "grade": false,
     "grade_id": "cell-0d68f8cd762dc13a",
     "locked": false,
     "schema_version": 1,
     "solution": true
    }
   },
   "outputs": [
    {
     "name": "stdout",
     "output_type": "stream",
     "text": [
      "out-of-sample R2: 0.2228, in-sample R2: 0.4991.\n"
     ]
    }
   ],
   "source": [
    "# Calculate out-of-sample R2 and in-sample R2\n",
    "# Your results may vary from the lesson due to datasize and training test split.\n",
    "# Generate validation_mse, training_mse, validation_mse_baseline, and training_mse_baseline\n",
    "# YOUR CODE HERE\n",
    "#raise NotImplementedError()\n",
    "validation_mse = ((matrix_train_filled[validation_indices] - matrix_incomplete[validation_indices]) ** 2).mean()\n",
    "training_mse = ((matrix_train_filled[train_indices] - matrix_incomplete[train_indices]) ** 2).mean()\n",
    "validation_mse_baseline = ((train_average - matrix_incomplete[validation_indices]) ** 2).mean()\n",
    "training_mse_baseline = ((train_average - matrix_incomplete[train_indices]) ** 2).mean()\n",
    "\n",
    "print(\"out-of-sample R2: %.4f, in-sample R2: %.4f.\" % (1 - validation_mse / validation_mse_baseline, 1 - training_mse / training_mse_baseline))"
   ]
  },
  {
   "cell_type": "code",
   "execution_count": null,
   "metadata": {
    "deletable": false,
    "editable": false,
    "nbgrader": {
     "checksum": "8c50b23cea0b186c2e2720bc585a7a28",
     "grade": true,
     "grade_id": "cell-5e8d8b5921a88c25",
     "locked": true,
     "points": 1,
     "schema_version": 1,
     "solution": false
    }
   },
   "outputs": [],
   "source": []
  },
  {
   "cell_type": "code",
   "execution_count": 35,
   "metadata": {
    "deletable": false,
    "editable": false,
    "nbgrader": {
     "checksum": "a440451393d11e5a00c714a46647a004",
     "grade": false,
     "grade_id": "cell-eb684faa745d06de",
     "locked": true,
     "schema_version": 1,
     "solution": false
    }
   },
   "outputs": [
    {
     "name": "stdout",
     "output_type": "stream",
     "text": [
      "After matrix completion = 1.066130728707499\n"
     ]
    }
   ],
   "source": [
    "# Observe your prediction:\n",
    "# After matrix completion\n",
    "print(\"After matrix completion =\", matrix_train_filled[526,80])"
   ]
  }
 ],
 "metadata": {
  "kernelspec": {
   "display_name": "Python 3",
   "language": "python",
   "name": "python3"
  },
  "language_info": {
   "codemirror_mode": {
    "name": "ipython",
    "version": 3
   },
   "file_extension": ".py",
   "mimetype": "text/x-python",
   "name": "python",
   "nbconvert_exporter": "python",
   "pygments_lexer": "ipython3",
   "version": "3.6.9"
  }
 },
 "nbformat": 4,
 "nbformat_minor": 2
}
